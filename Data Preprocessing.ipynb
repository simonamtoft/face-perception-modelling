{
 "cells": [
  {
   "cell_type": "markdown",
   "source": [
    "# Data Pre-processing"
   ],
   "metadata": {}
  },
  {
   "cell_type": "code",
   "execution_count": null,
   "source": [
    "import glob\r\n",
    "import numpy as np\r\n",
    "import pandas as pd\r\n",
    "import seaborn as sns\r\n",
    "import matplotlib.pyplot as plt\r\n",
    "from sklearn.preprocessing import MinMaxScaler\r\n",
    "\r\n",
    "sns.set()"
   ],
   "outputs": [],
   "metadata": {}
  },
  {
   "cell_type": "markdown",
   "source": [
    "### Load data"
   ],
   "metadata": {}
  },
  {
   "cell_type": "code",
   "execution_count": null,
   "source": [
    "# Read in data\r\n",
    "all_files = glob.glob('./*.txt')\r\n",
    "\r\n",
    "# Concatenate the different files into a single dataframe\r\n",
    "li = []\r\n",
    "for filename in all_files:\r\n",
    "    df = pd.read_csv(filename, sep=\",\", header=None)\r\n",
    "    li.append(df)\r\n",
    "\r\n",
    "df = pd.concat(li, axis=0, ignore_index=True)\r\n",
    "df.columns = [\"id\", \"idx\", \"filename\", \"label\", \"time\"]\r\n",
    "# df = df.loc[~((df['id'] != 101) & (df['id'] != 213))]\r\n",
    "df.head()"
   ],
   "outputs": [],
   "metadata": {}
  },
  {
   "cell_type": "markdown",
   "source": [
    "### Filter data"
   ],
   "metadata": {}
  },
  {
   "cell_type": "code",
   "execution_count": null,
   "source": [
    "# Create mask to filter away low and high reaction times\r\n",
    "time_mask = (df['time'] > 0.2) & (df['time'] < 1)\r\n",
    "\r\n",
    "# Filter out data\r\n",
    "df = df[time_mask]"
   ],
   "outputs": [],
   "metadata": {}
  },
  {
   "cell_type": "markdown",
   "source": [
    "### Get normalized reaction times"
   ],
   "metadata": {}
  },
  {
   "cell_type": "code",
   "execution_count": null,
   "source": [
    "# Create a new column with normalized times\r\n",
    "scaler = MinMaxScaler()\r\n",
    "for id_ in df['id'].unique():\r\n",
    "    mask_ = df['id'] == id_\r\n",
    "    scaler.fit(df.loc[mask_, ['time']])\r\n",
    "    df.loc[mask_, 'time_norm'] = scaler.transform(df.loc[mask_, ['time']])"
   ],
   "outputs": [],
   "metadata": {}
  },
  {
   "cell_type": "markdown",
   "source": [
    "### Create the continuous index"
   ],
   "metadata": {}
  },
  {
   "cell_type": "code",
   "execution_count": null,
   "source": [
    "# Create a mask for smile labels\r\n",
    "smile_mask = df['label'] == 'Smiling'\r\n",
    "\r\n",
    "# Create continuous index from -1 to 1\r\n",
    "df.loc[~smile_mask, 'cidx'] = (1 - df.loc[~smile_mask, 'time_norm'])\r\n",
    "df.loc[smile_mask, 'cidx'] = (df.loc[smile_mask, 'time_norm'] - 1)\r\n",
    "df.head()"
   ],
   "outputs": [],
   "metadata": {}
  },
  {
   "cell_type": "code",
   "execution_count": null,
   "source": [
    "# plot the distribution of the index\r\n",
    "plt.figure()\r\n",
    "df['cidx'].plot(kind='hist', bins=50, title=\"Continuous Index\")\r\n",
    "plt.xlabel('continuous index value')\r\n",
    "plt.savefig('cidx.png', dpi=None, facecolor='w', edgecolor='w',)\r\n",
    "plt.show()"
   ],
   "outputs": [],
   "metadata": {}
  },
  {
   "cell_type": "markdown",
   "source": [
    "Average the continuous index between the different subjects"
   ],
   "metadata": {}
  },
  {
   "cell_type": "code",
   "execution_count": null,
   "source": [
    "# Average out the cidx\r\n",
    "df_avg = df.groupby('filename').agg({'cidx': 'mean'})\r\n",
    "df_avg.head()"
   ],
   "outputs": [],
   "metadata": {}
  },
  {
   "cell_type": "code",
   "execution_count": null,
   "source": [
    "# Plot and save the cidx and average cidx\r\n",
    "plt.figure()\r\n",
    "df_avg['cidx'].plot(\r\n",
    "    kind='hist', bins=50, \r\n",
    "    title=\"Avg. Continuous Index\", \r\n",
    "    xlabel='s'\r\n",
    ")\r\n",
    "plt.xlabel('continuous index value')\r\n",
    "plt.savefig('cidx_avg.png', dpi=None, facecolor='w', edgecolor='w',)\r\n",
    "plt.show()"
   ],
   "outputs": [],
   "metadata": {}
  },
  {
   "cell_type": "markdown",
   "source": [
    "### Save to csv"
   ],
   "metadata": {}
  },
  {
   "cell_type": "code",
   "execution_count": null,
   "source": [
    "# Save the two dataframes as csv files\r\n",
    "df.to_csv(\"processed_data.csv\", index=False)\r\n",
    "df_avg.to_csv(\"cidx_avg.csv\", index=True)"
   ],
   "outputs": [],
   "metadata": {}
  },
  {
   "cell_type": "code",
   "execution_count": null,
   "source": [],
   "outputs": [],
   "metadata": {}
  }
 ],
 "metadata": {
  "orig_nbformat": 4,
  "language_info": {
   "name": "python",
   "version": "3.9.6",
   "mimetype": "text/x-python",
   "codemirror_mode": {
    "name": "ipython",
    "version": 3
   },
   "pygments_lexer": "ipython3",
   "nbconvert_exporter": "python",
   "file_extension": ".py"
  },
  "kernelspec": {
   "name": "python3",
   "display_name": "Python 3.9.6 64-bit"
  },
  "interpreter": {
   "hash": "63fd5069d213b44bf678585dea6b12cceca9941eaf7f819626cde1f2670de90d"
  }
 },
 "nbformat": 4,
 "nbformat_minor": 2
}