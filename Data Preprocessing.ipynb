{
 "cells": [
  {
   "cell_type": "markdown",
   "source": [
    "# Data Pre-processing"
   ],
   "metadata": {}
  },
  {
   "cell_type": "code",
   "execution_count": 2,
   "source": [
    "import numpy as np\r\n",
    "import pandas as pd\r\n",
    "import matplotlib.pyplot as plt\r\n",
    "from sklearn.preprocessing import MinMaxScaler\r\n",
    "import glob"
   ],
   "outputs": [],
   "metadata": {}
  },
  {
   "cell_type": "markdown",
   "source": [
    "### Load data"
   ],
   "metadata": {}
  },
  {
   "cell_type": "code",
   "execution_count": 3,
   "source": [
    "# Read in data\r\n",
    "all_files = glob.glob('./*.txt')\r\n",
    "\r\n",
    "li = []\r\n",
    "\r\n",
    "for filename in all_files:\r\n",
    "    df = pd.read_csv(filename, sep=\",\", header=None)\r\n",
    "    li.append(df)\r\n",
    "\r\n",
    "df = pd.concat(li, axis=0, ignore_index=True)\r\n",
    "\r\n",
    "df.columns = [\"id\", \"idx\", \"filename\", \"label\", \"time\"]\r\n",
    "df.head()"
   ],
   "outputs": [
    {
     "output_type": "execute_result",
     "data": {
      "text/html": [
       "<div>\n",
       "<style scoped>\n",
       "    .dataframe tbody tr th:only-of-type {\n",
       "        vertical-align: middle;\n",
       "    }\n",
       "\n",
       "    .dataframe tbody tr th {\n",
       "        vertical-align: top;\n",
       "    }\n",
       "\n",
       "    .dataframe thead th {\n",
       "        text-align: right;\n",
       "    }\n",
       "</style>\n",
       "<table border=\"1\" class=\"dataframe\">\n",
       "  <thead>\n",
       "    <tr style=\"text-align: right;\">\n",
       "      <th></th>\n",
       "      <th>id</th>\n",
       "      <th>idx</th>\n",
       "      <th>filename</th>\n",
       "      <th>label</th>\n",
       "      <th>time</th>\n",
       "    </tr>\n",
       "  </thead>\n",
       "  <tbody>\n",
       "    <tr>\n",
       "      <th>0</th>\n",
       "      <td>42</td>\n",
       "      <td>1</td>\n",
       "      <td>1_1_2_20161219161757030.jpg.chip.jpg</td>\n",
       "      <td>Not smiling</td>\n",
       "      <td>1.4754</td>\n",
       "    </tr>\n",
       "    <tr>\n",
       "      <th>1</th>\n",
       "      <td>42</td>\n",
       "      <td>2</td>\n",
       "      <td>1_0_2_20161219194849659.jpg.chip.jpg</td>\n",
       "      <td>Not smiling</td>\n",
       "      <td>0.8943</td>\n",
       "    </tr>\n",
       "    <tr>\n",
       "      <th>2</th>\n",
       "      <td>42</td>\n",
       "      <td>3</td>\n",
       "      <td>1_0_2_20161219205702141.jpg.chip.jpg</td>\n",
       "      <td>Not smiling</td>\n",
       "      <td>0.5393</td>\n",
       "    </tr>\n",
       "    <tr>\n",
       "      <th>3</th>\n",
       "      <td>42</td>\n",
       "      <td>4</td>\n",
       "      <td>1_1_2_20161219155926197.jpg.chip.jpg</td>\n",
       "      <td>Not smiling</td>\n",
       "      <td>0.6319</td>\n",
       "    </tr>\n",
       "    <tr>\n",
       "      <th>4</th>\n",
       "      <td>42</td>\n",
       "      <td>5</td>\n",
       "      <td>1_1_2_20161219200456451.jpg.chip.jpg</td>\n",
       "      <td>Not smiling</td>\n",
       "      <td>0.5440</td>\n",
       "    </tr>\n",
       "  </tbody>\n",
       "</table>\n",
       "</div>"
      ],
      "text/plain": [
       "   id  idx                              filename        label    time\n",
       "0  42    1  1_1_2_20161219161757030.jpg.chip.jpg  Not smiling  1.4754\n",
       "1  42    2  1_0_2_20161219194849659.jpg.chip.jpg  Not smiling  0.8943\n",
       "2  42    3  1_0_2_20161219205702141.jpg.chip.jpg  Not smiling  0.5393\n",
       "3  42    4  1_1_2_20161219155926197.jpg.chip.jpg  Not smiling  0.6319\n",
       "4  42    5  1_1_2_20161219200456451.jpg.chip.jpg  Not smiling  0.5440"
      ]
     },
     "metadata": {},
     "execution_count": 3
    }
   ],
   "metadata": {}
  },
  {
   "cell_type": "markdown",
   "source": [
    "### Filter data"
   ],
   "metadata": {}
  },
  {
   "cell_type": "code",
   "execution_count": 4,
   "source": [
    "# Create mask to filter away low and high reaction times\r\n",
    "time_mask = (df['time'] > 0.2) & (df['time'] < 2)\r\n",
    "\r\n",
    "# Filter out data\r\n",
    "df = df[time_mask]"
   ],
   "outputs": [],
   "metadata": {}
  },
  {
   "cell_type": "markdown",
   "source": [
    "### Get normalized reaction times"
   ],
   "metadata": {}
  },
  {
   "cell_type": "code",
   "execution_count": 5,
   "source": [
    "# Create a new column with normalized times\r\n",
    "scaler = MinMaxScaler()\r\n",
    "for id_ in df['id'].unique():\r\n",
    "    mask_ = df['id'] == id_\r\n",
    "    scaler.fit(df.loc[mask_, ['time']])\r\n",
    "    df.loc[mask_, 'time_norm'] = scaler.transform(df.loc[mask_, ['time']])\r\n",
    "df.head()"
   ],
   "outputs": [
    {
     "output_type": "execute_result",
     "data": {
      "text/html": [
       "<div>\n",
       "<style scoped>\n",
       "    .dataframe tbody tr th:only-of-type {\n",
       "        vertical-align: middle;\n",
       "    }\n",
       "\n",
       "    .dataframe tbody tr th {\n",
       "        vertical-align: top;\n",
       "    }\n",
       "\n",
       "    .dataframe thead th {\n",
       "        text-align: right;\n",
       "    }\n",
       "</style>\n",
       "<table border=\"1\" class=\"dataframe\">\n",
       "  <thead>\n",
       "    <tr style=\"text-align: right;\">\n",
       "      <th></th>\n",
       "      <th>id</th>\n",
       "      <th>idx</th>\n",
       "      <th>filename</th>\n",
       "      <th>label</th>\n",
       "      <th>time</th>\n",
       "      <th>time_norm</th>\n",
       "    </tr>\n",
       "  </thead>\n",
       "  <tbody>\n",
       "    <tr>\n",
       "      <th>0</th>\n",
       "      <td>42</td>\n",
       "      <td>1</td>\n",
       "      <td>1_1_2_20161219161757030.jpg.chip.jpg</td>\n",
       "      <td>Not smiling</td>\n",
       "      <td>1.4754</td>\n",
       "      <td>1.000000</td>\n",
       "    </tr>\n",
       "    <tr>\n",
       "      <th>1</th>\n",
       "      <td>42</td>\n",
       "      <td>2</td>\n",
       "      <td>1_0_2_20161219194849659.jpg.chip.jpg</td>\n",
       "      <td>Not smiling</td>\n",
       "      <td>0.8943</td>\n",
       "      <td>0.502781</td>\n",
       "    </tr>\n",
       "    <tr>\n",
       "      <th>2</th>\n",
       "      <td>42</td>\n",
       "      <td>3</td>\n",
       "      <td>1_0_2_20161219205702141.jpg.chip.jpg</td>\n",
       "      <td>Not smiling</td>\n",
       "      <td>0.5393</td>\n",
       "      <td>0.199025</td>\n",
       "    </tr>\n",
       "    <tr>\n",
       "      <th>3</th>\n",
       "      <td>42</td>\n",
       "      <td>4</td>\n",
       "      <td>1_1_2_20161219155926197.jpg.chip.jpg</td>\n",
       "      <td>Not smiling</td>\n",
       "      <td>0.6319</td>\n",
       "      <td>0.278258</td>\n",
       "    </tr>\n",
       "    <tr>\n",
       "      <th>4</th>\n",
       "      <td>42</td>\n",
       "      <td>5</td>\n",
       "      <td>1_1_2_20161219200456451.jpg.chip.jpg</td>\n",
       "      <td>Not smiling</td>\n",
       "      <td>0.5440</td>\n",
       "      <td>0.203046</td>\n",
       "    </tr>\n",
       "  </tbody>\n",
       "</table>\n",
       "</div>"
      ],
      "text/plain": [
       "   id  idx                              filename        label    time  \\\n",
       "0  42    1  1_1_2_20161219161757030.jpg.chip.jpg  Not smiling  1.4754   \n",
       "1  42    2  1_0_2_20161219194849659.jpg.chip.jpg  Not smiling  0.8943   \n",
       "2  42    3  1_0_2_20161219205702141.jpg.chip.jpg  Not smiling  0.5393   \n",
       "3  42    4  1_1_2_20161219155926197.jpg.chip.jpg  Not smiling  0.6319   \n",
       "4  42    5  1_1_2_20161219200456451.jpg.chip.jpg  Not smiling  0.5440   \n",
       "\n",
       "   time_norm  \n",
       "0   1.000000  \n",
       "1   0.502781  \n",
       "2   0.199025  \n",
       "3   0.278258  \n",
       "4   0.203046  "
      ]
     },
     "metadata": {},
     "execution_count": 5
    }
   ],
   "metadata": {}
  },
  {
   "cell_type": "markdown",
   "source": [
    "### Create the continuous index"
   ],
   "metadata": {}
  },
  {
   "cell_type": "code",
   "execution_count": 6,
   "source": [
    "# Define the scale (-scaling to scaling)\r\n",
    "scaling = 300\r\n",
    "\r\n",
    "# Create a mask for smile labels\r\n",
    "smile_mask = df['label'] == 'Smiling'\r\n",
    "\r\n",
    "# Create continuous index\r\n",
    "df.loc[~smile_mask, 'cidx'] = (1 - df.loc[~smile_mask, 'time_norm']) * scaling\r\n",
    "df.loc[smile_mask, 'cidx'] = (df.loc[smile_mask, 'time_norm'] - 1) * scaling\r\n",
    "\r\n",
    "# display\r\n",
    "df.head()"
   ],
   "outputs": [
    {
     "output_type": "execute_result",
     "data": {
      "text/html": [
       "<div>\n",
       "<style scoped>\n",
       "    .dataframe tbody tr th:only-of-type {\n",
       "        vertical-align: middle;\n",
       "    }\n",
       "\n",
       "    .dataframe tbody tr th {\n",
       "        vertical-align: top;\n",
       "    }\n",
       "\n",
       "    .dataframe thead th {\n",
       "        text-align: right;\n",
       "    }\n",
       "</style>\n",
       "<table border=\"1\" class=\"dataframe\">\n",
       "  <thead>\n",
       "    <tr style=\"text-align: right;\">\n",
       "      <th></th>\n",
       "      <th>id</th>\n",
       "      <th>idx</th>\n",
       "      <th>filename</th>\n",
       "      <th>label</th>\n",
       "      <th>time</th>\n",
       "      <th>time_norm</th>\n",
       "      <th>cidx</th>\n",
       "    </tr>\n",
       "  </thead>\n",
       "  <tbody>\n",
       "    <tr>\n",
       "      <th>0</th>\n",
       "      <td>42</td>\n",
       "      <td>1</td>\n",
       "      <td>1_1_2_20161219161757030.jpg.chip.jpg</td>\n",
       "      <td>Not smiling</td>\n",
       "      <td>1.4754</td>\n",
       "      <td>1.000000</td>\n",
       "      <td>0.000000</td>\n",
       "    </tr>\n",
       "    <tr>\n",
       "      <th>1</th>\n",
       "      <td>42</td>\n",
       "      <td>2</td>\n",
       "      <td>1_0_2_20161219194849659.jpg.chip.jpg</td>\n",
       "      <td>Not smiling</td>\n",
       "      <td>0.8943</td>\n",
       "      <td>0.502781</td>\n",
       "      <td>149.165740</td>\n",
       "    </tr>\n",
       "    <tr>\n",
       "      <th>2</th>\n",
       "      <td>42</td>\n",
       "      <td>3</td>\n",
       "      <td>1_0_2_20161219205702141.jpg.chip.jpg</td>\n",
       "      <td>Not smiling</td>\n",
       "      <td>0.5393</td>\n",
       "      <td>0.199025</td>\n",
       "      <td>240.292633</td>\n",
       "    </tr>\n",
       "    <tr>\n",
       "      <th>3</th>\n",
       "      <td>42</td>\n",
       "      <td>4</td>\n",
       "      <td>1_1_2_20161219155926197.jpg.chip.jpg</td>\n",
       "      <td>Not smiling</td>\n",
       "      <td>0.6319</td>\n",
       "      <td>0.278258</td>\n",
       "      <td>216.522632</td>\n",
       "    </tr>\n",
       "    <tr>\n",
       "      <th>4</th>\n",
       "      <td>42</td>\n",
       "      <td>5</td>\n",
       "      <td>1_1_2_20161219200456451.jpg.chip.jpg</td>\n",
       "      <td>Not smiling</td>\n",
       "      <td>0.5440</td>\n",
       "      <td>0.203046</td>\n",
       "      <td>239.086164</td>\n",
       "    </tr>\n",
       "  </tbody>\n",
       "</table>\n",
       "</div>"
      ],
      "text/plain": [
       "   id  idx                              filename        label    time  \\\n",
       "0  42    1  1_1_2_20161219161757030.jpg.chip.jpg  Not smiling  1.4754   \n",
       "1  42    2  1_0_2_20161219194849659.jpg.chip.jpg  Not smiling  0.8943   \n",
       "2  42    3  1_0_2_20161219205702141.jpg.chip.jpg  Not smiling  0.5393   \n",
       "3  42    4  1_1_2_20161219155926197.jpg.chip.jpg  Not smiling  0.6319   \n",
       "4  42    5  1_1_2_20161219200456451.jpg.chip.jpg  Not smiling  0.5440   \n",
       "\n",
       "   time_norm        cidx  \n",
       "0   1.000000    0.000000  \n",
       "1   0.502781  149.165740  \n",
       "2   0.199025  240.292633  \n",
       "3   0.278258  216.522632  \n",
       "4   0.203046  239.086164  "
      ]
     },
     "metadata": {},
     "execution_count": 6
    }
   ],
   "metadata": {}
  },
  {
   "cell_type": "code",
   "execution_count": 7,
   "source": [
    "# plot the distribution of the index\r\n",
    "plt.figure()\r\n",
    "df['cidx'].plot(kind='hist', bins=50, title=\"Continuous Index\")\r\n",
    "plt.xlabel('continuous index value')\r\n",
    "plt.show()"
   ],
   "outputs": [
    {
     "output_type": "display_data",
     "data": {
      "image/png": "[encoded data removed]",
      "text/plain": [
       "<Figure size 432x288 with 1 Axes>"
      ]
     },
     "metadata": {
      "needs_background": "light"
     }
    }
   ],
   "metadata": {}
  },
  {
   "cell_type": "markdown",
   "source": [
    "Average the continuous index between the different subjects"
   ],
   "metadata": {}
  },
  {
   "cell_type": "code",
   "execution_count": 11,
   "source": [
    "# Convert filename to index\r\n",
    "# for fidx, fname in enumerate(df['filename'].unique()):\r\n",
    "#     mask_ = df['filename'] == fname\r\n",
    "#     df.loc[mask_, 'file_idx'] = fidx\r\n",
    "\r\n",
    "# Average out the cidx\r\n",
    "df_avg = df.groupby('filename').agg({'cidx': 'mean'})\r\n",
    "df_avg.head()"
   ],
   "outputs": [
    {
     "output_type": "execute_result",
     "data": {
      "text/html": [
       "<div>\n",
       "<style scoped>\n",
       "    .dataframe tbody tr th:only-of-type {\n",
       "        vertical-align: middle;\n",
       "    }\n",
       "\n",
       "    .dataframe tbody tr th {\n",
       "        vertical-align: top;\n",
       "    }\n",
       "\n",
       "    .dataframe thead th {\n",
       "        text-align: right;\n",
       "    }\n",
       "</style>\n",
       "<table border=\"1\" class=\"dataframe\">\n",
       "  <thead>\n",
       "    <tr style=\"text-align: right;\">\n",
       "      <th></th>\n",
       "      <th>cidx</th>\n",
       "    </tr>\n",
       "    <tr>\n",
       "      <th>filename</th>\n",
       "      <th></th>\n",
       "    </tr>\n",
       "  </thead>\n",
       "  <tbody>\n",
       "    <tr>\n",
       "      <th>1_0_2_20161219140525218.jpg.chip.jpg</th>\n",
       "      <td>245.479237</td>\n",
       "    </tr>\n",
       "    <tr>\n",
       "      <th>1_0_2_20161219140530307.jpg.chip.jpg</th>\n",
       "      <td>-235.285292</td>\n",
       "    </tr>\n",
       "    <tr>\n",
       "      <th>1_0_2_20161219140540938.jpg.chip.jpg</th>\n",
       "      <td>-235.469384</td>\n",
       "    </tr>\n",
       "    <tr>\n",
       "      <th>1_0_2_20161219141817185.jpg.chip.jpg</th>\n",
       "      <td>-238.851722</td>\n",
       "    </tr>\n",
       "    <tr>\n",
       "      <th>1_0_2_20161219141912009.jpg.chip.jpg</th>\n",
       "      <td>-250.134650</td>\n",
       "    </tr>\n",
       "  </tbody>\n",
       "</table>\n",
       "</div>"
      ],
      "text/plain": [
       "                                            cidx\n",
       "filename                                        \n",
       "1_0_2_20161219140525218.jpg.chip.jpg  245.479237\n",
       "1_0_2_20161219140530307.jpg.chip.jpg -235.285292\n",
       "1_0_2_20161219140540938.jpg.chip.jpg -235.469384\n",
       "1_0_2_20161219141817185.jpg.chip.jpg -238.851722\n",
       "1_0_2_20161219141912009.jpg.chip.jpg -250.134650"
      ]
     },
     "metadata": {},
     "execution_count": 11
    }
   ],
   "metadata": {}
  },
  {
   "cell_type": "code",
   "execution_count": 13,
   "source": [
    "# Plot\r\n",
    "plt.figure()\r\n",
    "df_avg['cidx'].plot(\r\n",
    "    kind='hist', bins=50, \r\n",
    "    title=\"Avg. Continuous Index\", \r\n",
    "    xlabel='s'\r\n",
    ")\r\n",
    "plt.xlabel('continuous index value')\r\n",
    "plt.show()"
   ],
   "outputs": [
    {
     "output_type": "display_data",
     "data": {
      "image/png": "[encoded data removed]",
      "text/plain": [
       "<Figure size 432x288 with 1 Axes>"
      ]
     },
     "metadata": {
      "needs_background": "light"
     }
    }
   ],
   "metadata": {}
  },
  {
   "cell_type": "markdown",
   "source": [
    "### Save to csv"
   ],
   "metadata": {}
  },
  {
   "cell_type": "code",
   "execution_count": 15,
   "source": [
    "# Save the two dataframes as csv files\r\n",
    "df.to_csv(\"processed_data.csv\", index=False)\r\n",
    "df_avg.to_csv(\"cidx_avg.csv\", index=True)"
   ],
   "outputs": [],
   "metadata": {}
  }
 ],
 "metadata": {
  "orig_nbformat": 4,
  "language_info": {
   "name": "python",
   "version": "3.9.6",
   "mimetype": "text/x-python",
   "codemirror_mode": {
    "name": "ipython",
    "version": 3
   },
   "pygments_lexer": "ipython3",
   "nbconvert_exporter": "python",
   "file_extension": ".py"
  },
  "kernelspec": {
   "name": "python3",
   "display_name": "Python 3.9.6 64-bit"
  },
  "interpreter": {
   "hash": "63fd5069d213b44bf678585dea6b12cceca9941eaf7f819626cde1f2670de90d"
  }
 },
 "nbformat": 4,
 "nbformat_minor": 2
}