{
 "cells": [
  {
   "cell_type": "code",
   "execution_count": 79,
   "source": [
    "import numpy as np\r\n",
    "import pandas as pd\r\n",
    "from glob import glob\r\n",
    "import matplotlib.pyplot as plt\r\n",
    "\r\n",
    "import seaborn as sns\r\n",
    "sns.set()"
   ],
   "outputs": [],
   "metadata": {}
  },
  {
   "cell_type": "code",
   "execution_count": 39,
   "source": [
    "# get paths to all scoring .csv files\r\n",
    "scoring_file_paths = glob('./results/scoring_*.csv')\r\n",
    "print(scoring_file_paths)"
   ],
   "outputs": [
    {
     "output_type": "stream",
     "name": "stdout",
     "text": [
      "['./results\\\\scoring_Marc.csv', './results\\\\scoring_simon.csv']\n"
     ]
    }
   ],
   "metadata": {}
  },
  {
   "cell_type": "code",
   "execution_count": 40,
   "source": [
    "# load all .csv scoring files into a single DataFrame\r\n",
    "scoring_files = []\r\n",
    "for file_path in scoring_file_paths:\r\n",
    "    scoring_files.append(pd.read_csv(file_path))\r\n",
    "df_scores = pd.concat(scoring_files, axis=0, ignore_index=True)"
   ],
   "outputs": [],
   "metadata": {}
  },
  {
   "cell_type": "code",
   "execution_count": 37,
   "source": [
    "# Create a new DataFrame of mean and std of scores\r\n",
    "mean_scores = df_scores.apply(lambda col: [col.mean(), col.std()])\r\n",
    "mean_scores.index = ['mean', 'std']\r\n",
    "mean_scores.head()"
   ],
   "outputs": [
    {
     "output_type": "execute_result",
     "data": {
      "text/html": [
       "<div>\n",
       "<style scoped>\n",
       "    .dataframe tbody tr th:only-of-type {\n",
       "        vertical-align: middle;\n",
       "    }\n",
       "\n",
       "    .dataframe tbody tr th {\n",
       "        vertical-align: top;\n",
       "    }\n",
       "\n",
       "    .dataframe thead th {\n",
       "        text-align: right;\n",
       "    }\n",
       "</style>\n",
       "<table border=\"1\" class=\"dataframe\">\n",
       "  <thead>\n",
       "    <tr style=\"text-align: right;\">\n",
       "      <th></th>\n",
       "      <th>recon_mean_5</th>\n",
       "      <th>mean_1</th>\n",
       "      <th>mean_4</th>\n",
       "      <th>recon_mean_3</th>\n",
       "      <th>mean_2</th>\n",
       "      <th>recon_mean_6</th>\n",
       "      <th>mean_5</th>\n",
       "      <th>cidx_5</th>\n",
       "      <th>cidx_1</th>\n",
       "      <th>mean_3</th>\n",
       "      <th>...</th>\n",
       "      <th>mean_6</th>\n",
       "      <th>recon_mean_0</th>\n",
       "      <th>cidx_2</th>\n",
       "      <th>recon_mean_1</th>\n",
       "      <th>cidx_6</th>\n",
       "      <th>mean_0</th>\n",
       "      <th>cidx_4</th>\n",
       "      <th>cidx_3</th>\n",
       "      <th>recon_mean_4</th>\n",
       "      <th>recon_mean_2</th>\n",
       "    </tr>\n",
       "  </thead>\n",
       "  <tbody>\n",
       "    <tr>\n",
       "      <th>mean</th>\n",
       "      <td>1.250000</td>\n",
       "      <td>4.050000</td>\n",
       "      <td>1.400000</td>\n",
       "      <td>2.500000</td>\n",
       "      <td>3.250000</td>\n",
       "      <td>1.0</td>\n",
       "      <td>1.150000</td>\n",
       "      <td>1.100000</td>\n",
       "      <td>3.700000</td>\n",
       "      <td>2.500000</td>\n",
       "      <td>...</td>\n",
       "      <td>1.100000</td>\n",
       "      <td>4.500000</td>\n",
       "      <td>3.050000</td>\n",
       "      <td>3.750000</td>\n",
       "      <td>1.050000</td>\n",
       "      <td>4.35000</td>\n",
       "      <td>1.550000</td>\n",
       "      <td>2.25000</td>\n",
       "      <td>1.650000</td>\n",
       "      <td>3.0</td>\n",
       "    </tr>\n",
       "    <tr>\n",
       "      <th>std</th>\n",
       "      <td>0.444262</td>\n",
       "      <td>0.510418</td>\n",
       "      <td>0.502625</td>\n",
       "      <td>0.688247</td>\n",
       "      <td>0.638666</td>\n",
       "      <td>0.0</td>\n",
       "      <td>0.366348</td>\n",
       "      <td>0.307794</td>\n",
       "      <td>0.470162</td>\n",
       "      <td>0.512989</td>\n",
       "      <td>...</td>\n",
       "      <td>0.447214</td>\n",
       "      <td>0.512989</td>\n",
       "      <td>0.394034</td>\n",
       "      <td>0.786398</td>\n",
       "      <td>0.223607</td>\n",
       "      <td>0.48936</td>\n",
       "      <td>0.604805</td>\n",
       "      <td>0.55012</td>\n",
       "      <td>0.587143</td>\n",
       "      <td>0.0</td>\n",
       "    </tr>\n",
       "  </tbody>\n",
       "</table>\n",
       "<p>2 rows × 21 columns</p>\n",
       "</div>"
      ],
      "text/plain": [
       "      recon_mean_5    mean_1    mean_4  recon_mean_3    mean_2  recon_mean_6  \\\n",
       "mean      1.250000  4.050000  1.400000      2.500000  3.250000           1.0   \n",
       "std       0.444262  0.510418  0.502625      0.688247  0.638666           0.0   \n",
       "\n",
       "        mean_5    cidx_5    cidx_1    mean_3  ...    mean_6  recon_mean_0  \\\n",
       "mean  1.150000  1.100000  3.700000  2.500000  ...  1.100000      4.500000   \n",
       "std   0.366348  0.307794  0.470162  0.512989  ...  0.447214      0.512989   \n",
       "\n",
       "        cidx_2  recon_mean_1    cidx_6   mean_0    cidx_4   cidx_3  \\\n",
       "mean  3.050000      3.750000  1.050000  4.35000  1.550000  2.25000   \n",
       "std   0.394034      0.786398  0.223607  0.48936  0.604805  0.55012   \n",
       "\n",
       "      recon_mean_4  recon_mean_2  \n",
       "mean      1.650000           3.0  \n",
       "std       0.587143           0.0  \n",
       "\n",
       "[2 rows x 21 columns]"
      ]
     },
     "metadata": {},
     "execution_count": 37
    }
   ],
   "metadata": {}
  }
 ],
 "metadata": {
  "orig_nbformat": 4,
  "language_info": {
   "name": "python",
   "version": "3.7.11",
   "mimetype": "text/x-python",
   "codemirror_mode": {
    "name": "ipython",
    "version": 3
   },
   "pygments_lexer": "ipython3",
   "nbconvert_exporter": "python",
   "file_extension": ".py"
  },
  "kernelspec": {
   "name": "python3",
   "display_name": "Python 3.7.11 64-bit ('data': conda)"
  },
  "interpreter": {
   "hash": "c9eaa6cab60957622bc7c21c094ec3bcf62f95db383f0d4e160715b4a293fd59"
  }
 },
 "nbformat": 4,
 "nbformat_minor": 2
}